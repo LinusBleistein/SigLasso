{
 "cells": [
  {
   "cell_type": "markdown",
   "metadata": {},
   "source": [
    "# Preprocessing of data from Paireau et al (2022)"
   ]
  },
  {
   "cell_type": "code",
   "execution_count": 3,
   "id": "f0baef7a",
   "metadata": {},
   "outputs": [],
   "source": [
    "import iisignature as isig\n",
    "import numpy as np\n",
    "import pandas as pd\n",
    "import time\n",
    "from sklearn.linear_model import Lasso, LinearRegression\n",
    "import sys\n",
    "from sklearn.model_selection import train_test_split\n",
    "import os\n",
    "import torch\n",
    "import pickle\n",
    "from sklearn.preprocessing import StandardScaler \n",
    "import matplotlib.pyplot as plt\n",
    "from matplotlib import rc\n",
    "import matplotlib.pyplot as plt\n",
    "import seaborn as sns\n",
    "import pyreadr\n",
    "\n",
    "sns.set()\n",
    "rc('font', **{'family': 'serif', 'serif': ['Computer Modern']})\n",
    "rc('text', usetex=True)"
   ]
  },
  {
   "cell_type": "markdown",
   "metadata": {},
   "source": [
    "This notebook pre-processed the results from Paireau, J., Andronico, A., Hozé, N., Layan, M., Crepey, P., Roumagnac, A., ... & Cauchemez, S. (2022). An ensemble model based on early predictors to forecast COVID-19 health care demand in France. Proceedings of the National Academy of Sciences, 119(18), e2103302119.\n",
    "\n",
    "Since this article gives results for predicting gross hospital admissions, we need to process the data to obtain predictions on the growth rate. Please start by downloading the file `Ensemble.rds` containing the results of the aformentioned article by following this link: https://gitlab.pasteur.fr/mmmi-pasteur/covid19-ensemble-model/Results .  "
   ]
  },
  {
   "cell_type": "code",
   "execution_count": 5,
   "id": "9429ec89",
   "metadata": {},
   "outputs": [],
   "source": [
    "result_PNAS = pyreadr.read_r('SET_ENSEMBLE_PATH_HERE')\n",
    "result_PNAS = result_PNAS[None]"
   ]
  },
  {
   "cell_type": "code",
   "execution_count": 6,
   "id": "44e80915",
   "metadata": {},
   "outputs": [],
   "source": [
    "result_PNAS['date']= pd.to_datetime(result_PNAS['date'])"
   ]
  },
  {
   "cell_type": "code",
   "execution_count": 10,
   "id": "8d392342",
   "metadata": {},
   "outputs": [
    {
     "data": {
      "text/plain": [
       "(100139, 31)"
      ]
     },
     "execution_count": 10,
     "metadata": {},
     "output_type": "execute_result"
    }
   ],
   "source": [
    "result_PNAS = result_PNAS.loc[result_PNAS['model']==\"Ensemble\"]\n",
    "result_PNAS = result_PNAS.loc[result_PNAS['var']==\"iHosp\"]\n"
   ]
  },
  {
   "cell_type": "code",
   "execution_count": 15,
   "id": "75aebb6e",
   "metadata": {},
   "outputs": [],
   "source": [
    "regions = [\"ARA\", \"BFC\", \"BRE\", \"CVL\",  \"GES\", \"HDF\", \"IDF\", \"NOR\",\n",
    "                      \"NAQ\", \"OCC\", \"PDL\", \"PAC\"]\n",
    "\n",
    "\n",
    "results_RF_temp = pd.DataFrame({'date' : result_PNAS['date'].unique()[2:]})"
   ]
  },
  {
   "cell_type": "code",
   "execution_count": 18,
   "id": "73f670d4",
   "metadata": {},
   "outputs": [],
   "source": [
    "result_PNAS = result_PNAS.drop(['lower_2', 'lower_5',\n",
    "       'lower_10', 'lower_20', 'lower_30', 'lower_40', 'lower_50', 'lower_60',\n",
    "       'lower_70', 'lower_80', 'lower_90', 'upper_90', 'upper_80',\n",
    "       'upper_70', 'upper_60', 'upper_50', 'upper_40', 'upper_30', 'upper_20',\n",
    "       'upper_10', 'upper_5', 'upper_2', 'model', 'date_proj', 'lower',\n",
    "       'upper'],axis=1)"
   ]
  },
  {
   "cell_type": "raw",
   "id": "7974c295",
   "metadata": {},
   "source": [
    "results_PNAS_temp = pd.DataFrame({'date' : result_PNAS['date'].unique()[1:]})"
   ]
  },
  {
   "cell_type": "code",
   "execution_count": null,
   "metadata": {},
   "outputs": [],
   "source": [
    "for region in regions:\n",
    "    for horizon in np.arange(1,15):\n",
    "        result_PNAS_horizon = result_PNAS.loc[result_PNAS['prediction_horizon'] == horizon].copy()\n",
    "        result_PNAS_horizon_region = result_PNAS_horizon.loc[result_PNAS_horizon['region'] == region].copy()\n",
    "\n",
    "        var = 'pred'  + str(region) + str(horizon)\n",
    "        results_PNAS_temp = results_PNAS_temp.assign(value = np.empty((result_PNAS_horizon_region.shape[0]-2)))\n",
    "        results_PNAS_temp = results_PNAS_temp.rename(columns={'value' : var})\n",
    "\n",
    "        pred = np.log(result_PNAS_horizon_region['point'][1:].to_numpy()/ \\\n",
    "                     result_PNAS_horizon_region['point'][:-1].to_numpy())\n",
    "\n",
    "\n",
    "results_RF = results_RF_temp.copy()"
   ]
  },
  {
   "cell_type": "code",
   "execution_count": 20,
   "id": "f5437c0f",
   "metadata": {},
   "outputs": [],
   "source": [
    "results_PNAS_temp = result_PNAS.copy()\n",
    "results_PNAS_temp = results_PNAS_temp.reset_index()\n",
    "results_PNAS_temp[\"pred_r\"] = np.empty(results_PNAS_temp.shape[0])"
   ]
  },
  {
   "cell_type": "code",
   "execution_count": 22,
   "id": "b4595f6a",
   "metadata": {},
   "outputs": [],
   "source": [
    "for region in regions:\n",
    "    for horizon in np.arange(1,15):\n",
    "        result_PNAS_horizon = results_PNAS_temp.loc[results_PNAS_temp['prediction_horizon'] == horizon].copy()\n",
    "        result_PNAS_horizon_region = result_PNAS_horizon.loc[result_PNAS_horizon['region'] == region].copy()\n",
    "        #print(result_PNAS_horizon_region.shape)\n",
    "        pred = np.log((result_PNAS_horizon_region['point'][1:].to_numpy() \\\n",
    "                       /result_PNAS_horizon_region['point'][:-1].to_numpy()))\n",
    "        results_PNAS_temp.loc[result_PNAS_horizon_region.index[1:], 'pred_r'] =  pred\n",
    "        dates = results_PNAS_temp['date'].unique()[horizon + 1 : ]\n",
    "        results_PNAS_temp.loc[result_PNAS_horizon_region.index[1:], 'date'] = dates\n"
   ]
  },
  {
   "cell_type": "code",
   "execution_count": 24,
   "id": "720268ef",
   "metadata": {},
   "outputs": [
    {
     "data": {
      "text/html": [
       "<div>\n",
       "<style scoped>\n",
       "    .dataframe tbody tr th:only-of-type {\n",
       "        vertical-align: middle;\n",
       "    }\n",
       "\n",
       "    .dataframe tbody tr th {\n",
       "        vertical-align: top;\n",
       "    }\n",
       "\n",
       "    .dataframe thead th {\n",
       "        text-align: right;\n",
       "    }\n",
       "</style>\n",
       "<table border=\"1\" class=\"dataframe\">\n",
       "  <thead>\n",
       "    <tr style=\"text-align: right;\">\n",
       "      <th></th>\n",
       "      <th>index</th>\n",
       "      <th>var</th>\n",
       "      <th>region</th>\n",
       "      <th>date</th>\n",
       "      <th>14</th>\n",
       "      <th>point</th>\n",
       "      <th>pred_r</th>\n",
       "    </tr>\n",
       "  </thead>\n",
       "  <tbody>\n",
       "    <tr>\n",
       "      <th>0</th>\n",
       "      <td>287311</td>\n",
       "      <td>iHosp</td>\n",
       "      <td>ARA</td>\n",
       "      <td>2021-03-07</td>\n",
       "      <td>-1.0</td>\n",
       "      <td>124.839526</td>\n",
       "      <td>1.057374e-200</td>\n",
       "    </tr>\n",
       "    <tr>\n",
       "      <th>1</th>\n",
       "      <td>287312</td>\n",
       "      <td>iHosp</td>\n",
       "      <td>ARA</td>\n",
       "      <td>2021-03-07</td>\n",
       "      <td>0.0</td>\n",
       "      <td>124.364461</td>\n",
       "      <td>1.057374e-200</td>\n",
       "    </tr>\n",
       "    <tr>\n",
       "      <th>2</th>\n",
       "      <td>287313</td>\n",
       "      <td>iHosp</td>\n",
       "      <td>ARA</td>\n",
       "      <td>2021-03-07</td>\n",
       "      <td>1.0</td>\n",
       "      <td>123.892634</td>\n",
       "      <td>1.057374e-200</td>\n",
       "    </tr>\n",
       "    <tr>\n",
       "      <th>3</th>\n",
       "      <td>287314</td>\n",
       "      <td>iHosp</td>\n",
       "      <td>ARA</td>\n",
       "      <td>2021-03-07</td>\n",
       "      <td>2.0</td>\n",
       "      <td>123.908161</td>\n",
       "      <td>1.057374e-200</td>\n",
       "    </tr>\n",
       "    <tr>\n",
       "      <th>4</th>\n",
       "      <td>287315</td>\n",
       "      <td>iHosp</td>\n",
       "      <td>ARA</td>\n",
       "      <td>2021-03-07</td>\n",
       "      <td>3.0</td>\n",
       "      <td>123.268286</td>\n",
       "      <td>1.057374e-200</td>\n",
       "    </tr>\n",
       "    <tr>\n",
       "      <th>...</th>\n",
       "      <td>...</td>\n",
       "      <td>...</td>\n",
       "      <td>...</td>\n",
       "      <td>...</td>\n",
       "      <td>...</td>\n",
       "      <td>...</td>\n",
       "      <td>...</td>\n",
       "    </tr>\n",
       "    <tr>\n",
       "      <th>24006</th>\n",
       "      <td>311317</td>\n",
       "      <td>iHosp</td>\n",
       "      <td>PDL</td>\n",
       "      <td>2021-07-05</td>\n",
       "      <td>-1.0</td>\n",
       "      <td>2.129376</td>\n",
       "      <td>5.018987e-200</td>\n",
       "    </tr>\n",
       "    <tr>\n",
       "      <th>24007</th>\n",
       "      <td>311318</td>\n",
       "      <td>iHosp</td>\n",
       "      <td>PDL</td>\n",
       "      <td>2021-07-05</td>\n",
       "      <td>0.0</td>\n",
       "      <td>2.113516</td>\n",
       "      <td>5.018987e-200</td>\n",
       "    </tr>\n",
       "    <tr>\n",
       "      <th>24008</th>\n",
       "      <td>311319</td>\n",
       "      <td>iHosp</td>\n",
       "      <td>PDL</td>\n",
       "      <td>2021-07-06</td>\n",
       "      <td>1.0</td>\n",
       "      <td>2.099437</td>\n",
       "      <td>1.544741e-01</td>\n",
       "    </tr>\n",
       "    <tr>\n",
       "      <th>24009</th>\n",
       "      <td>311320</td>\n",
       "      <td>iHosp</td>\n",
       "      <td>PDL</td>\n",
       "      <td>2021-07-06</td>\n",
       "      <td>-1.0</td>\n",
       "      <td>2.076958</td>\n",
       "      <td>5.069114e-200</td>\n",
       "    </tr>\n",
       "    <tr>\n",
       "      <th>24010</th>\n",
       "      <td>311321</td>\n",
       "      <td>iHosp</td>\n",
       "      <td>PDL</td>\n",
       "      <td>2021-07-06</td>\n",
       "      <td>0.0</td>\n",
       "      <td>2.069465</td>\n",
       "      <td>5.069114e-200</td>\n",
       "    </tr>\n",
       "  </tbody>\n",
       "</table>\n",
       "<p>24011 rows × 7 columns</p>\n",
       "</div>"
      ],
      "text/plain": [
       "        index    var region       date   14       point         pred_r\n",
       "0      287311  iHosp    ARA 2021-03-07 -1.0  124.839526  1.057374e-200\n",
       "1      287312  iHosp    ARA 2021-03-07  0.0  124.364461  1.057374e-200\n",
       "2      287313  iHosp    ARA 2021-03-07  1.0  123.892634  1.057374e-200\n",
       "3      287314  iHosp    ARA 2021-03-07  2.0  123.908161  1.057374e-200\n",
       "4      287315  iHosp    ARA 2021-03-07  3.0  123.268286  1.057374e-200\n",
       "...       ...    ...    ...        ...  ...         ...            ...\n",
       "24006  311317  iHosp    PDL 2021-07-05 -1.0    2.129376  5.018987e-200\n",
       "24007  311318  iHosp    PDL 2021-07-05  0.0    2.113516  5.018987e-200\n",
       "24008  311319  iHosp    PDL 2021-07-06  1.0    2.099437   1.544741e-01\n",
       "24009  311320  iHosp    PDL 2021-07-06 -1.0    2.076958  5.069114e-200\n",
       "24010  311321  iHosp    PDL 2021-07-06  0.0    2.069465  5.069114e-200\n",
       "\n",
       "[24011 rows x 7 columns]"
      ]
     },
     "execution_count": 24,
     "metadata": {},
     "output_type": "execute_result"
    }
   ],
   "source": [
    "results_PNAS_temp.rename(columns={'prediction_horizon' : horizon})\n"
   ]
  },
  {
   "cell_type": "code",
   "execution_count": null,
   "id": "f5c33b01",
   "metadata": {},
   "outputs": [],
   "source": [
    "results_PNAS_temp.to_csv(\"SET_RESULT_PATH\")"
   ]
  }
 ],
 "metadata": {
  "kernelspec": {
   "display_name": "siglasso_venv",
   "language": "python",
   "name": "siglasso_venv"
  },
  "language_info": {
   "codemirror_mode": {
    "name": "ipython",
    "version": 3
   },
   "file_extension": ".py",
   "mimetype": "text/x-python",
   "name": "python",
   "nbconvert_exporter": "python",
   "pygments_lexer": "ipython3",
   "version": "3.7.9"
  }
 },
 "nbformat": 4,
 "nbformat_minor": 5
}
