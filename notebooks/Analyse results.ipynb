{
 "cells": [
  {
   "cell_type": "code",
   "execution_count": null,
   "id": "02c7f103-dfaa-4f4b-9602-68e49d4bcd34",
   "metadata": {},
   "outputs": [],
   "source": [
    "import matplotlib.pyplot as plt\n",
    "from matplotlib import rc\n",
    "import pandas as pd\n",
    "import seaborn as sns\n",
    "\n",
    "sns.set_style('whitegrid')\n",
    "rc('font', **{'family': 'serif', 'serif': ['Computer Modern']})\n",
    "rc('text', usetex=True)\n",
    "\n",
    "sns.set_palette('colorblind')\n"
   ]
  },
  {
   "cell_type": "code",
   "execution_count": null,
   "id": "c00395d3-2e64-4dcf-a1bd-2081f9211129",
   "metadata": {},
   "outputs": [],
   "source": [
    "import json\n",
    "import os"
   ]
  },
  {
   "cell_type": "code",
   "execution_count": null,
   "id": "ed998732-0b2a-440c-8da7-b46f8488c704",
   "metadata": {},
   "outputs": [],
   "source": [
    "# WARNING: Execute this cell only once !\n",
    "os.chdir('../')"
   ]
  },
  {
   "cell_type": "code",
   "execution_count": null,
   "id": "a7493925-f2eb-4b6c-8793-9bc52ae66082",
   "metadata": {},
   "outputs": [],
   "source": [
    "from experiments.configs import *\n",
    "from src.utils_exp import get_ex_results"
   ]
  },
  {
   "cell_type": "code",
   "execution_count": null,
   "id": "79a26ea1-5aef-4578-9d2c-c4bd5e11505a",
   "metadata": {},
   "outputs": [],
   "source": [
    "rc('font', **{'family': 'serif', 'serif': ['Computer Modern']})\n",
    "rc('text', usetex=True)"
   ]
  },
  {
   "cell_type": "markdown",
   "id": "b780c05a-4861-4597-b124-35d8f4888db3",
   "metadata": {},
   "source": [
    "# Example of reading results : Ornstein Uhlenbeck experiment"
   ]
  },
  {
   "cell_type": "code",
   "execution_count": null,
   "id": "16efec92-5fbd-4fa2-9ff5-ab1d973c43e7",
   "metadata": {
    "scrolled": true,
    "tags": []
   },
   "outputs": [],
   "source": [
    "name_config = 'ou'\n",
    "\n",
    "results_path = f\"{os.getcwd()}/results/{name_config}\"\n",
    "\n",
    "print(results_path)\n",
    "df = get_ex_results(results_path)"
   ]
  },
  {
   "cell_type": "code",
   "execution_count": null,
   "id": "4d251a2e-8092-4737-88c9-029bf9b91fca",
   "metadata": {},
   "outputs": [],
   "source": [
    "print(df.shape)\n",
    "print(df.head())\n",
    "print(df.columns)"
   ]
  },
  {
   "cell_type": "code",
   "execution_count": null,
   "id": "a0588ffb-cff8-4c64-a1f0-1cb68c9a0723",
   "metadata": {},
   "outputs": [],
   "source": [
    "df['n_points_Y'] = df['n_points_Y'].astype(int) + 1 # Add 1 because the last point of Y is always included\n",
    "df['n_train'] = df['n_train'].astype(int) "
   ]
  },
  {
   "cell_type": "code",
   "execution_count": null,
   "id": "17f7e69a-4f6f-4629-980a-0448effb5f2c",
   "metadata": {},
   "outputs": [],
   "source": [
    "print(df[['l2_test_lasso', 'l2_test_gru', 'l2_test_ncde']].mean())\n",
    "print(df[['l2_test_lasso', 'l2_test_gru', 'l2_test_ncde']].std())"
   ]
  },
  {
   "cell_type": "code",
   "execution_count": null,
   "id": "97a2ae4f-f3bc-4284-9432-3c7906eaccf1",
   "metadata": {},
   "outputs": [],
   "source": [
    "print(df[['mse_last_point_test_lasso', 'mse_last_point_test_gru', 'mse_last_point_test_ncde']].mean())\n",
    "print(df[['mse_last_point_test_lasso', 'mse_last_point_test_gru', 'mse_last_point_test_ncde']].std())"
   ]
  },
  {
   "cell_type": "code",
   "execution_count": null,
   "id": "28a8a9b7-c63a-43ac-bb59-2132a472c92d",
   "metadata": {},
   "outputs": [],
   "source": [
    "print(df[['time_lasso', 'time_gru', 'time_ncde']].mean())\n",
    "print(df[['time_lasso', 'time_gru', 'time_ncde']].std())"
   ]
  },
  {
   "cell_type": "code",
   "execution_count": null,
   "id": "319e5ebd-0962-410d-8c2a-33da6950a1e5",
   "metadata": {},
   "outputs": [],
   "source": []
  }
 ],
 "metadata": {
  "kernelspec": {
   "display_name": "Python 3",
   "language": "python",
   "name": "python3"
  },
  "language_info": {
   "codemirror_mode": {
    "name": "ipython",
    "version": 3
   },
   "file_extension": ".py",
   "mimetype": "text/x-python",
   "name": "python",
   "nbconvert_exporter": "python",
   "pygments_lexer": "ipython3",
   "version": "3.7.13"
  }
 },
 "nbformat": 4,
 "nbformat_minor": 5
}
